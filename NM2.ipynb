{
 "cells": [
  {
   "cell_type": "markdown",
   "metadata": {},
   "source": [
    "# HW 2"
   ]
  },
  {
   "cell_type": "code",
   "execution_count": 33,
   "metadata": {},
   "outputs": [],
   "source": [
    "import numpy as np\n",
    "import matplotlib.pyplot as plt\n",
    "import seaborn as sns\n"
   ]
  },
  {
   "cell_type": "markdown",
   "metadata": {},
   "source": [
    "## 3.1.12"
   ]
  },
  {
   "cell_type": "markdown",
   "metadata": {},
   "source": [
    "### Step 1"
   ]
  },
  {
   "cell_type": "code",
   "execution_count": 6,
   "metadata": {},
   "outputs": [],
   "source": [
    "def generate_c_matrix(n):\n",
    "    global N\n",
    "    c = np.zeros((n,n))\n",
    "    for i in range(1,n+1):\n",
    "        for j in range(1,n+1):\n",
    "            c[i-1][j-1] = 0.1*N*i*j\n",
    "    return c\n",
    "\n",
    "def generate_a_matrix(c_matrix,n):\n",
    "    a = c_matrix.copy()\n",
    "    for i in range(n):\n",
    "        for j in range(n):\n",
    "            a[i][j] = 111/c_matrix[i][j]**4 + 3*c_matrix[i][j] + 13\n",
    "    return np.array(a)\n",
    "\n",
    "def generate_b_array(n):\n",
    "    return np.array([i+1 for i in range(n)])"
   ]
  },
  {
   "cell_type": "code",
   "execution_count": 7,
   "metadata": {},
   "outputs": [
    {
     "name": "stdout",
     "output_type": "stream",
     "text": [
      "Решение x системы Ax=b: [-0.00413223  0.15236168 -0.57010445  0.421875  ]\n"
     ]
    }
   ],
   "source": [
    "N = 12 \n",
    "n = 4\n",
    "\n",
    "c = generate_c_matrix(n)\n",
    "A = generate_a_matrix(c,n)\n",
    "b = generate_b_array(n)\n",
    "\n",
    "\n",
    "\n",
    "# Нахождение решения x системы Ax=b с помощью метода Гаусса\n",
    "x_correct = np.array(np.linalg.solve(A, b))\n",
    "print(\"Решение x системы Ax=b:\", x_correct)"
   ]
  },
  {
   "cell_type": "markdown",
   "metadata": {},
   "source": [
    "### Step 2"
   ]
  },
  {
   "cell_type": "code",
   "execution_count": 8,
   "metadata": {},
   "outputs": [
    {
     "name": "stdout",
     "output_type": "stream",
     "text": [
      "Число обусловленности матрицы A равно: 5.300895773034461e+16\n"
     ]
    }
   ],
   "source": [
    "cond_number = np.linalg.cond(A)\n",
    "print(\"Число обусловленности матрицы A равно:\", cond_number)\n"
   ]
  },
  {
   "cell_type": "markdown",
   "metadata": {},
   "source": [
    "### Step 3"
   ]
  },
  {
   "cell_type": "code",
   "execution_count": 9,
   "metadata": {},
   "outputs": [],
   "source": [
    "def create_B_list(n,b,delta = 0.001):\n",
    "    B = []\n",
    "    for i in range(n):\n",
    "        b_i = []\n",
    "        for k in range(n):\n",
    "            b_i.append(b[k]+delta if i == k else b[k])\n",
    "        B.append(b_i)\n",
    "    return np.array(B) \n",
    "\n",
    "def calculate_d_comp(pred,real):\n",
    "    return max(abs(pred - real)) / max(real)\n",
    "\n"
   ]
  },
  {
   "cell_type": "code",
   "execution_count": 10,
   "metadata": {},
   "outputs": [],
   "source": [
    "x = []\n",
    "B = create_B_list(n,b)\n",
    "d = []\n",
    "for i in range(n):\n",
    "    sol = np.linalg.solve(A, B[i])\n",
    "    x.append(sol)\n",
    "    d.append(calculate_d_comp(sol,x_correct))\n"
   ]
  },
  {
   "cell_type": "markdown",
   "metadata": {},
   "source": [
    "### Step 4"
   ]
  },
  {
   "cell_type": "code",
   "execution_count": 11,
   "metadata": {},
   "outputs": [
    {
     "data": {
      "image/png": "[encoded data removed]",
      "text/plain": [
       "<Figure size 640x480 with 1 Axes>"
      ]
     },
     "metadata": {},
     "output_type": "display_data"
    }
   ],
   "source": [
    "with plt.style.context(\"dark_background\"):\n",
    "    plt.bar(x =range(1,n+1), height=d);\n"
   ]
  },
  {
   "cell_type": "markdown",
   "metadata": {},
   "source": [
    "### Step 5 is presented in second task"
   ]
  },
  {
   "cell_type": "markdown",
   "metadata": {},
   "source": [
    "## 3.2"
   ]
  },
  {
   "cell_type": "code",
   "execution_count": 57,
   "metadata": {},
   "outputs": [],
   "source": [
    "def add_noise_to_matrix(A, delta = 0.001):\n",
    "    x,y = A.shape\n",
    "    \n",
    "    return A + np.array(np.random.uniform(-delta/2,delta/2,x*y)).reshape(x,y)"
   ]
  },
  {
   "cell_type": "code",
   "execution_count": 58,
   "metadata": {},
   "outputs": [],
   "source": [
    "def sigma(pred,real):\n",
    "    return np.linalg.norm(pred - real) / np.linalg.norm(pred)\n",
    "\n",
    "def calculate_d_comp(pred,real):\n",
    "    return max(abs(pred - real)) / max(real)"
   ]
  },
  {
   "cell_type": "code",
   "execution_count": 60,
   "metadata": {},
   "outputs": [],
   "source": [
    "EXP_NUM = 100\n",
    "c = generate_c_matrix(n)\n",
    "A = generate_a_matrix(c,n)\n",
    "b = generate_b_array(n)\n",
    "x_correct = np.linalg.solve(A, b)\n",
    "\n",
    "d_vec = []\n",
    "s_x_vec = []\n",
    "s_a_vec = []\n",
    "\n",
    "cond_number = np.linalg.cond(A)\n",
    "\n",
    "\n",
    "for exp_num in range(EXP_NUM):\n",
    "    A_cur = add_noise_to_matrix(A)\n",
    "    sol = np.linalg.solve(A_cur, b)\n",
    "    d_vec.append(calculate_d_comp(sol,x_correct))\n",
    "    s_x_vec.append(sigma(sol,x_correct))\n",
    "    s_a_vec.append(sigma(A_cur,A))\n",
    "\n",
    "s_x_vec = np.array(s_x_vec)\n",
    "s_a_vec = np.array(s_a_vec)\n",
    "\n",
    "# with plt.style.context(\"dark_background\"):\n",
    "#     plt.hist(np.log(d_vec),bins=30);\n",
    "plt.hist(d_vec,bins=50);"
   ]
  },
  {
   "cell_type": "code",
   "execution_count": 61,
   "metadata": {},
   "outputs": [
    {
     "data": {
      "text/plain": [
       "array([[0.4265032 , 0.67575015, 1.3513587 , 2.04701087],\n",
       "       [0.4265032 , 0.67575015, 1.3513587 , 2.04701087],\n",
       "       [0.4265032 , 0.67575015, 1.3513587 , 2.04701087],\n",
       "       [0.4265032 , 0.67575015, 1.3513587 , 2.04701087]])"
      ]
     },
     "execution_count": 61,
     "metadata": {},
     "output_type": "execute_result"
    }
   ],
   "source": [
    "Err"
   ]
  },
  {
   "cell_type": "code",
   "execution_count": 52,
   "metadata": {},
   "outputs": [
    {
     "name": "stdout",
     "output_type": "stream",
     "text": [
      "Formula is correct\n"
     ]
    }
   ],
   "source": [
    "if False in s_x_vec <= cond_number*s_a_vec : print(\"Formula is wrong\")\n",
    "else: print(\"Formula is correct\")"
   ]
  },
  {
   "cell_type": "code",
   "execution_count": 56,
   "metadata": {},
   "outputs": [
    {
     "data": {
      "image/png": "[encoded data removed]",
      "text/plain": [
       "<Figure size 640x480 with 2 Axes>"
      ]
     },
     "metadata": {},
     "output_type": "display_data"
    }
   ],
   "source": [
    "with plt.style.context(\"dark_background\"):\n",
    "    sns.heatmap(Err)\n",
    "plt.show()"
   ]
  },
  {
   "cell_type": "markdown",
   "metadata": {},
   "source": [
    "## Task 3.5.3"
   ]
  },
  {
   "cell_type": "code",
   "execution_count": 181,
   "metadata": {},
   "outputs": [],
   "source": [
    "def cholesky(A, n = 30, m = 9):\n",
    "    n = len(A)\n",
    "    L = np.zeros((n, n))\n",
    "\n",
    "    for i in range(n):\n",
    "        for j in range(min(i+1,n)):\n",
    "            if i == j:\n",
    "                temp = A[i][i] - sum(L[i][k]**2 for k in range(i))\n",
    "                L[i][i] = np.sqrt(temp)\n",
    "            else:\n",
    "                temp = A[i][j] - sum(L[i][k]*L[j][k] for k in range(j))\n",
    "                L[i][j] = temp / L[j][j]\n",
    "    return L\n",
    "\n",
    "def solve_cholesky(A, b, n = 30, m = 9):\n",
    "    L = cholesky(A)\n",
    "    y = np.linalg.solve(L, b)\n",
    "    x = np.linalg.solve(L.T, y)\n",
    "    return (y,x)\n",
    "\n",
    "def generate_a_matrix_3_5_3(n = 30,m = 9):\n",
    "\n",
    "    a = np.zeros((n,n))\n",
    "    for i in range(1,n+1):\n",
    "        for j in range(1,n+1):\n",
    "            a[i-1][j-1] = (i+j)/(m+n) if i != j else n + m**2 + j/m + i/n \n",
    "    return np.array(a)\n",
    "\n",
    "def generate_b_vec_3_5_3(n = 30):\n",
    "    return np.array([i**2 - 100 for i in range(1,n+1)]).T\n"
   ]
  },
  {
   "cell_type": "code",
   "execution_count": 182,
   "metadata": {},
   "outputs": [
    {
     "name": "stdout",
     "output_type": "stream",
     "text": [
      "Решение системы уравнений методом Холецкого:\n"
     ]
    },
    {
     "data": {
      "text/plain": [
       "(array([-9.39055617, -9.09358969, -8.60141902, -7.91509934, -7.03599474,\n",
       "        -5.9657682 , -4.70636938, -3.26002049, -1.62920036,  0.1833731 ,\n",
       "         2.17476172,  4.34182706,  6.68125131,  9.18955876, 11.86313777,\n",
       "        14.69826282, 17.69111659, 20.83781175, 24.13441235, 27.57695449,\n",
       "        31.16146633, 34.88398711, 38.74058516, 42.72737481, 46.84053203,\n",
       "        51.07630893, 55.43104685, 59.90118823, 64.48328714, 69.17401852]),\n",
       " array([-1.19421606, -1.17628984, -1.14042087, -1.08665417, -1.01503464,\n",
       "        -0.92560698, -0.81841578, -0.69350547, -0.55092032, -0.39070448,\n",
       "        -0.21290192, -0.01755648,  0.19528813,  0.42558837,  0.67330083,\n",
       "         0.93838226,  1.22078953,  1.52047967,  1.83740985,  2.17153737,\n",
       "         2.52281968,  2.89121438,  3.27667918,  3.67917196,  4.09865073,\n",
       "         4.53507363,  4.98839893,  5.45858506,  5.94559058,  6.44937417]))"
      ]
     },
     "execution_count": 182,
     "metadata": {},
     "output_type": "execute_result"
    }
   ],
   "source": [
    "n = 30\n",
    "m = 9\n",
    "\n",
    "A = generate_a_matrix_3_5_3()\n",
    "b = generate_b_vec_3_5_3()\n",
    "\n",
    "ans = solve_cholesky(A, b)\n",
    "print(\"Решение системы уравнений методом Холецкого:\")\n",
    "\n",
    "ans\n"
   ]
  },
  {
   "cell_type": "code",
   "execution_count": null,
   "metadata": {},
   "outputs": [],
   "source": []
  },
  {
   "cell_type": "code",
   "execution_count": null,
   "metadata": {},
   "outputs": [],
   "source": []
  },
  {
   "cell_type": "code",
   "execution_count": null,
   "metadata": {},
   "outputs": [],
   "source": []
  },
  {
   "cell_type": "code",
   "execution_count": null,
   "metadata": {},
   "outputs": [],
   "source": []
  }
 ],
 "metadata": {
  "kernelspec": {
   "display_name": "Python 3",
   "language": "python",
   "name": "python3"
  },
  "language_info": {
   "codemirror_mode": {
    "name": "ipython",
    "version": 3
   },
   "file_extension": ".py",
   "mimetype": "text/x-python",
   "name": "python",
   "nbconvert_exporter": "python",
   "pygments_lexer": "ipython3",
   "version": "3.10.11"
  }
 },
 "nbformat": 4,
 "nbformat_minor": 2
}
